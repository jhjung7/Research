{
 "cells": [
  {
   "cell_type": "code",
   "execution_count": 1,
   "metadata": {},
   "outputs": [],
   "source": [
    "import os\n",
    "import pandas as pd\n",
    "import numpy as np\n",
    "from datetime import datetime\n",
    "from dateutil.parser import parse\n",
    "from dateutil.relativedelta import relativedelta"
   ]
  },
  {
   "cell_type": "markdown",
   "metadata": {},
   "source": [
    "- 분석계획\n",
    "    - 사설 데이터-> 전국/지역 이슈 구분(키워드 분석) label-> 같은 지역내 신문들끼리의 키워드 분석-> 감성분석 -> 유사치 도출\n",
    "    - 지역신문 top2 설정"
   ]
  },
  {
   "cell_type": "markdown",
   "metadata": {},
   "source": [
    "1. 0410 (v1)\n",
    "    - 일단은 crawl_v1에서 만들어낸 기사로 함\n",
    "    - 나중에 big kinds 사이트에서 전문 기사 가져온것으로 분석\n",
    "    "
   ]
  },
  {
   "cell_type": "markdown",
   "metadata": {},
   "source": [
    "# 데이터 전처리"
   ]
  },
  {
   "cell_type": "code",
   "execution_count": 2,
   "metadata": {},
   "outputs": [
    {
     "data": {
      "text/plain": [
       "['.DS_Store',\n",
       " 'News_전국_중앙일보_20080131-20151231.csv',\n",
       " 'News_부산_부산일보_20080131-20151231.csv',\n",
       " 'df_ols.csv',\n",
       " 'News_부산_국제신문_20080131-20151231.csv',\n",
       " 'News_전국_동아일보_20080131-20151231.csv',\n",
       " 'News_전국_경향신문_20080131-20151231.csv']"
      ]
     },
     "execution_count": 2,
     "metadata": {},
     "output_type": "execute_result"
    }
   ],
   "source": [
    "file_list = os.listdir('/Users/jihyejung/workspace/Dropbox/Research/신문차별화/data')\n",
    "file_list"
   ]
  },
  {
   "cell_type": "code",
   "execution_count": 3,
   "metadata": {
    "code_folding": [],
    "scrolled": true
   },
   "outputs": [
    {
     "name": "stdout",
     "output_type": "stream",
     "text": [
      "중앙일보 7409\n",
      "동아일보 7197\n",
      "국제신문 9547\n",
      "부산일보 6885\n",
      "경향신문 6885\n"
     ]
    },
    {
     "name": "stderr",
     "output_type": "stream",
     "text": [
      "/Users/jihyejung/opt/anaconda3/envs/DL/lib/python3.7/site-packages/pandas/core/indexing.py:1732: SettingWithCopyWarning: \n",
      "A value is trying to be set on a copy of a slice from a DataFrame\n",
      "\n",
      "See the caveats in the documentation: https://pandas.pydata.org/pandas-docs/stable/user_guide/indexing.html#returning-a-view-versus-a-copy\n",
      "  self._setitem_single_block(indexer, value, name)\n"
     ]
    },
    {
     "name": "stdout",
     "output_type": "stream",
     "text": [
      "중앙일보 7000\n",
      "동아일보 7194\n",
      "국제신문 3194\n",
      "부산일보 6121\n",
      "경향신문 6121\n"
     ]
    }
   ],
   "source": [
    "file = '/Users/jihyejung/workspace/Dropbox/Research/신문차별화/data/'\n",
    "\n",
    "df_joong =  pd.read_csv(file+'News_전국_중앙일보_20080131-20151231.csv', encoding='utf-8')\n",
    "df_donga =  pd.read_csv(file+'News_전국_동아일보_20080131-20151231.csv', encoding='utf-8')\n",
    "df_bu_1 =  pd.read_csv(file+'News_부산_국제신문_20080131-20151231.csv', encoding='utf-8')\n",
    "df_bu_2 =  pd.read_csv(file+'News_부산_부산일보_20080131-20151231.csv', encoding='utf-8')\n",
    "df_kyeong =  pd.read_csv(file+'News_전국_경향신문_20080131-20151231.csv', encoding='utf-8')\n",
    "\n",
    "#Before\n",
    "print(f'중앙일보 {len(df_joong)}')\n",
    "print(f'동아일보 {len(df_donga)}')\n",
    "print(f'국제신문 {len(df_bu_1)}')\n",
    "print(f'부산일보 {len(df_bu_2)}')\n",
    "print(f'경향신문 {len(df_bu_2)}')\n",
    "\n",
    "df_joong.drop('Unnamed: 0', axis = 1, inplace = True)\n",
    "df_donga.drop('Unnamed: 0', axis = 1, inplace = True)\n",
    "df_bu_1.drop('Unnamed: 0', axis = 1, inplace = True)\n",
    "df_bu_2.drop('Unnamed: 0', axis = 1, inplace = True)\n",
    "\n",
    "#기사 본문있는것만 남기기\n",
    "df_joong = df_joong[df_joong.본문_full != 'url_error']\n",
    "df_donga = df_donga[df_donga.본문_full != 'url_error']\n",
    "df_bu_1 = df_bu_1[~df_bu_1.본문_full.isna()]\n",
    "df_bu_2 = df_bu_2[~df_bu_2.본문_full.isna()]\n",
    "df_bu_2 = df_bu_2[df_bu_2.본문_full != 'url_error']\n",
    "\n",
    "#header 수정\n",
    "df_joong.본문_full.replace('\\u3000','', inplace = True)\n",
    "df_donga.본문_full = df_donga.본문_full.apply(lambda x: x.split('\\n사설')[0].strip())\n",
    "for i in range(len(df_bu_1.본문_full)):\n",
    "    try:\n",
    "        df_bu_1.본문_full.iloc[i] = df_bu_1.본문_full.iloc[i].replace('<div class=\"news_article\">','')\\\n",
    "        .replace('\\r\\n\\t\\t\\t\\t','')\\\n",
    "        .replace('<br/><br/>','')\\\n",
    "        .replace('</div>','')\n",
    "    except:\n",
    "        print(i)\n",
    "for i in range(len(df_bu_2.본문_full)):\n",
    "    try:\n",
    "        df_bu_2.본문_full.iloc[i] = df_bu_2.본문_full.iloc[i].replace('<div class=\"article_content\">\\n<p class=\"subtitle\">','')\\\n",
    "        .replace('\\n</p>\\n<p><p>','')\\\n",
    "        .replace('<br/><br/>','')\\\n",
    "        .replace('<br><br/>','')\\\n",
    "        .replace('</br></p></p>\\n<br/>\\n<p></p>\\n</div>','')\n",
    "    except:\n",
    "        print(i)\n",
    "#re.sub('<.+?>', '', df_bu_1.본문_full[0], 0).strip()\n",
    "\n",
    "df_kyeong.drop('Unnamed: 0', axis = 1, inplace = True)\n",
    "df_kyeong = df_kyeong[df_kyeong.본문_full != 'url_error']\n",
    "df_kyeong = df_kyeong[~df_kyeong.본문_full.isna()]\n",
    "df_kyeong.본문_full = df_kyeong.본문_full.apply(lambda x: x.replace('<div class=\"art_body\" id=\"articleBody\" itemprop=\"articleBody\">\\n<p class=\"content_text\">','')\\\n",
    ".replace('<br/></p><p class=\"content_text\">','')\\\n",
    ".split('<br/></p><!-- AD. 기사면 본문 배너 (250x250) -->')[0]\\\n",
    ".split('</p> <div class=\"srch-kw\">')[0])\n",
    "\n",
    "#after\n",
    "print(f'중앙일보 {len(df_joong)}')\n",
    "print(f'동아일보 {len(df_donga)}')\n",
    "print(f'국제신문 {len(df_bu_1)}')\n",
    "print(f'부산일보 {len(df_bu_2)}')\n",
    "print(f'경향신문 {len(df_bu_2)}')"
   ]
  },
  {
   "cell_type": "code",
   "execution_count": 4,
   "metadata": {
    "scrolled": true
   },
   "outputs": [
    {
     "name": "stdout",
     "output_type": "stream",
     "text": [
      "20080131,20151231\n",
      "20080131,20151231\n",
      "20080131,20151231\n",
      "20110602,20151231\n",
      "20090105,20151231\n",
      "중앙일보 4414\n",
      "동아일보 4171\n",
      "경향신문 3165\n",
      "국제신문 3194\n",
      "부산일보 4080\n"
     ]
    }
   ],
   "source": [
    "#날짜별로 구분\n",
    "#3일치씩의 사설-> 서로 비교-> 전국이슈와 지방이슈\n",
    "print(f'{min(df_joong.일자)},{max(df_joong.일자)}')\n",
    "print(f'{min(df_donga.일자)},{max(df_donga.일자)}')\n",
    "print(f'{min(df_kyeong.일자)},{max(df_kyeong.일자)}')\n",
    "print(f'{min(df_bu_1.일자)},{max(df_bu_1.일자)}')\n",
    "print(f'{min(df_bu_2.일자)},{max(df_bu_2.일자)}')\n",
    "\n",
    "#국제신문이 삭제된 기사가 너무 많아서 2011년0602~20151231에 해당하는 기사에 대하 분석\n",
    "df_joong = df_joong[df_joong.일자>=20110602]\n",
    "df_donga = df_donga[df_donga.일자>=20110602]\n",
    "df_kyeong = df_kyeong[df_kyeong.일자>=20110602]\n",
    "df_bu_1 = df_bu_1[df_bu_1.일자>=20110602]\n",
    "df_bu_2 = df_bu_2[df_bu_2.일자>=20110602]\n",
    "\n",
    "#그랬더니 숫자는 비슷하네\n",
    "print(f'중앙일보 {len(df_joong)}')\n",
    "print(f'동아일보 {len(df_donga)}')\n",
    "print(f'경향신문 {len(df_kyeong)}')\n",
    "print(f'국제신문 {len(df_bu_1)}')\n",
    "print(f'부산일보 {len(df_bu_2)}')"
   ]
  },
  {
   "cell_type": "markdown",
   "metadata": {},
   "source": [
    "# 전국/지역 구분"
   ]
  },
  {
   "cell_type": "markdown",
   "metadata": {},
   "source": [
    "## 코싸인 유사도"
   ]
  },
  {
   "cell_type": "code",
   "execution_count": 5,
   "metadata": {},
   "outputs": [],
   "source": [
    "from sklearn.feature_extraction.text import TfidfVectorizer\n",
    "from sklearn.metrics.pairwise import cosine_similarity"
   ]
  },
  {
   "cell_type": "code",
   "execution_count": 6,
   "metadata": {},
   "outputs": [],
   "source": [
    "df_nation = pd.concat([df_joong,df_donga,df_kyeong])\n",
    "df_local = pd.concat([df_bu_1,df_bu_2])\n",
    "df_nation.index = range(len(df_nation))\n",
    "df_local.index = range(len(df_local))"
   ]
  },
  {
   "cell_type": "code",
   "execution_count": 7,
   "metadata": {},
   "outputs": [
    {
     "name": "stdout",
     "output_type": "stream",
     "text": [
      "[20210101, 20210102, 20210103, 20210104, 20210105, 20210106, 20210107, 20210108, 20210109]\n"
     ]
    }
   ],
   "source": [
    "def date_range(start, end):\n",
    "    start = datetime.strptime(start, \"%Y%m%d\")\n",
    "    end = datetime.strptime(end, \"%Y%m%d\")\n",
    "    dates = [date.strftime(\"%Y%m%d\") for date in pd.date_range(start, periods=(end-start).days+1)]\n",
    "    dates = list(map(int, dates))\n",
    "    return dates\n",
    "    \n",
    "#dates = date_range(\"20210101\", \"20210109\")\n",
    "#print(dates)"
   ]
  },
  {
   "cell_type": "code",
   "execution_count": 28,
   "metadata": {
    "code_folding": []
   },
   "outputs": [
    {
     "name": "stdout",
     "output_type": "stream",
     "text": [
      "20110731\n",
      "20110912\n",
      "20120101\n",
      "20120122\n",
      "20120123\n",
      "20130920\n",
      "20130921\n",
      "20140201\n",
      "20140908\n",
      "20140909\n",
      "20150220\n"
     ]
    }
   ],
   "source": [
    "# 전국일보랑 겹치는 지역일보 확인\n",
    "nation_news_index = []\n",
    "local_news_index = []\n",
    "# cosine similarity 구해서 일정 수준 넘으면 유사도 높은것으로 간주\n",
    "for i in date_range(\"20110602\", \"20151231\"):\n",
    "    #print(i)\n",
    "    try:\n",
    "        _nation = df_nation[(df_nation.일자 >= i-1) & (df_nation.일자 <= i+1)]\n",
    "        _local = df_local[(df_local.일자 >= i-1) & (df_local.일자 <= i+1) ]\n",
    "\n",
    "        _len_nation = len(_nation)\n",
    "        _len_local = len(_local)\n",
    "\n",
    "        data = pd.concat([_nation,_local])\n",
    "\n",
    "        tfidf = TfidfVectorizer(stop_words='english')\n",
    "        tfidf_mat_nation = tfidf.fit_transform(data['키워드']) #본문_full, 특성추출(가중치순 상위 50개), 키워드\n",
    "        #print('TF-IDF 행렬의 크기(shape) :',tfidf_mat_nation.shape)\n",
    "\n",
    "        cosine_sim = cosine_similarity(tfidf_mat_nation[:_len_nation], tfidf_mat_nation[_len_nation:])\n",
    "        #print(_len_nation)\n",
    "        #print('코사인 유사도 연산 결과 :',cosine_sim.shape)\n",
    "\n",
    "        #겹치는 지역신문 index\n",
    "        cond = (cosine_sim>=0.1)\n",
    "        index_ls = []\n",
    "        index_ls2 = []\n",
    "        for i in range(len(np.where([cond][0])[0])):\n",
    "            #print(np.where([cosine_sim>=0.1][0])[0][i],np.where([cosine_sim>=0.1][0])[1][i])\n",
    "            #local index\n",
    "            loc_local = np.where([cond][0])[1][i]\n",
    "            index_ls.append(_local.index[loc_local])\n",
    "            index_ls = list(set(index_ls))\n",
    "            #nation index\n",
    "            #loc_nation = np.where([cond][0])[0][i]\n",
    "            #index_ls2.append(_nation.index[loc_nation])\n",
    "            #index_ls2 = list(set(index_ls2))\n",
    "        nation_news_index = nation_news_index+index_ls\n",
    "        #상당히 비슷한 것을 볼 수 있음\n",
    "        #키워드를 사용하는게 좋음\n",
    "        #print(f'지역신문: {_local.loc[index_ls].제목}')\n",
    "        #print(f'전국신문: {_nation.loc[index_ls2].제목}')\n",
    "        #print('\\n')\n",
    "        #안겹치는 지역신문 index\n",
    "        local_news_index = local_news_index+list(set(_local.index).difference(set(index_ls)))\n",
    "    except:\n",
    "        print(i)\n",
    "\n",
    "#data[['본문_full','언론사']] #: data 확인"
   ]
  },
  {
   "cell_type": "markdown",
   "metadata": {
    "heading_collapsed": true
   },
   "source": [
    "## heat map"
   ]
  },
  {
   "cell_type": "code",
   "execution_count": 24,
   "metadata": {
    "code_folding": [
     0
    ],
    "hidden": true
   },
   "outputs": [],
   "source": [
    "#본문 예시\n",
    "nation_news_index = []\n",
    "local_news_index = []\n",
    "for i in date_range(\"20110603\", \"20110603\"): #하루만 가지고 실행\n",
    "    try:\n",
    "        _nation = df_nation[(df_nation.일자 >= i-1) & (df_nation.일자 <= i+1)]\n",
    "        _local = df_local[(df_local.일자 >= i-1) & (df_local.일자 <= i+1) ]\n",
    "        _len_nation = len(_nation)\n",
    "        _len_local = len(_local)\n",
    "        data = pd.concat([_nation,_local])\n",
    "\n",
    "        tfidf = TfidfVectorizer(stop_words='english')\n",
    "        tfidf_mat_nation = tfidf.fit_transform(data['키워드']) #본문_full, 특성추출(가중치순 상위 50개), 키워드\n",
    "        cosine_sim = cosine_similarity(tfidf_mat_nation[:_len_nation], tfidf_mat_nation[_len_nation:])\n",
    "        \n",
    "        #겹치는 지역신문 index\n",
    "        cond = (cosine_sim>=0.1)\n",
    "        index_ls = []\n",
    "        index_ls2 = []\n",
    "        for i in range(len(np.where([cond][0])[0])):\n",
    "            #print(np.where([cosine_sim>=0.1][0])[0][i],np.where([cosine_sim>=0.1][0])[1][i])\n",
    "            #local index\n",
    "            loc_local = np.where([cond][0])[1][i]\n",
    "            index_ls.append(_local.index[loc_local])\n",
    "            index_ls = list(set(index_ls))\n",
    "            #nation index\n",
    "            loc_nation = np.where([cond][0])[0][i]\n",
    "            index_ls2.append(_nation.index[loc_nation])\n",
    "            index_ls2 = list(set(index_ls2))\n",
    "        nation_news_index = nation_news_index+index_ls\n",
    "        #상당히 비슷한 것을 볼 수 있음\n",
    "        #키워드를 사용하는게 좋음\n",
    "        #안겹치는 지역신문 index\n",
    "        local_news_index = local_news_index+list(set(_local.index).difference(set(index_ls)))\n",
    "    except:\n",
    "        print(i)\n"
   ]
  },
  {
   "cell_type": "code",
   "execution_count": 27,
   "metadata": {
    "hidden": true
   },
   "outputs": [
    {
     "name": "stdout",
     "output_type": "stream",
     "text": [
      "7266    부산저축은행 비리사건에 여야 전·현직 국회의원 2명이 연루됐다고 한다. 이름과 금품...\n",
      "7270    말도 많고 탈도 많던 통신요금 인하 방안이 확정됐다. 기본요금 1천 원 인하와 문자...\n",
      "7272    지난달 남북은 베이징 비밀접촉을 가졌고 이 자리에서 남한이 6월 하순, 8월, 내년...\n",
      "7273    부산저축은행의 불법 행위를 비호해 온 실체는 과연 어디까지인가. 금융감독원, 감사원...\n",
      "3188    북한이 외교적 관례를 깨고 남북 정상회담과 관련한 '비밀접촉' 전말을 낱낱이 폭로함...\n",
      "3190    우여곡절 끝에 확정된 정부의 통신요금 인하안이 실망스럽다. 방송통신위원회는 이동통신...\n",
      "3192    저축은행 사태가 이명박 정권의 최대 게이트로 비화하고 있는 가운데 청와대와 야당의 ...\n",
      "Name: 본문_full, dtype: object\n",
      "7267    이명박 정부는 부산을 비롯한 해항도시들의 강한 반대에도 불구하고 해양수산부를 폐지했...\n",
      "7268    4대강 사업에 따른 농경지 리모델링 공사가 거의 마무리 단계에 접어들었다. 이 과정...\n",
      "7269    올해 3월 부산 물가가 전국 최고로 치솟았을 때 부산시는 그 원인을 제대로 파악하지...\n",
      "7271    대학은 누가 뭐래도 아직까지는 우리 사회를 떠받치는 지성의 전당이다. 대학을 이끄는...\n",
      "3189    부산대 총장 선거에 나선 일부 후보자들이 불법 선거운동을 하다 부산시선거관리위원회에...\n",
      "3191    부산~김해 경전철 역 이름이 현실과 동떨어지게 지어진 것은 잘못된 일이다. 21개 ...\n",
      "3193    올 들어 물가 오름세가 예사롭지 않다. 5월 소비자물가가 4.1% 오르면서 다섯 달...\n",
      "Name: 본문_full, dtype: object\n"
     ]
    },
    {
     "data": {
      "text/plain": [
       "8577     여권의 지분을 나눠 가진 이명박(MB) 대통령과 박근혜 전 대표의 단독회동은 현 정...\n",
       "11746    김황식 국무총리는 지난 2월 자신이 감사원장으로 있던 지난해 저축은행 감사 과정에서...\n",
       "11748    방송통신위원회가 어제 이동통신 요금 경감대책을 발표했다. 관계부처 합동 태스크포스가...\n",
       "8581     이동통신요금 기본료가 1000원 인하되고 스마트폰 가입자들은 이용 패턴에 맞춰 요금...\n",
       "8580     이명박 대통령은 권력형 비리, 공직자 비리, 친인척 비리 등 부정부패를 척결하겠다고...\n",
       "8583     북한이 어제 남북 정상회담을 논의하기 위해 남한과 접촉한 사실과 추진 상황을 공개하...\n",
       "8584     대검찰청 중앙수사부는 부산저축은행그룹으로부터 수천만 원의 뇌물을 받은 혐의가 포착된...\n",
       "11749    북한의 비밀접촉 폭로 후 정부는 충격에서 벗어나지 못한 채 폭로내용에 대한 해명과 ...\n",
       "4408     \\n여전히 문제는 ‘북한을 어떻게 보느냐’다. 비밀리에 추진되던 남북 정상회담 협상...\n",
       "4409     \\n박태규. 부산저축은행의 정·관계 로비스트로 알려진 인물이다. 검찰 수사가 본격화...\n",
       "4412     \\n북한 국방위원회가 남북 간 비밀협상 과정을 공개하고 나섰다. 한 국가의 최고권력...\n",
       "4413     \\n김종창 전(前) 금융감독원장이 감사원장이었던 김황식 총리에게 “저축은행 감사를 ...\n",
       "Name: 본문_full, dtype: object"
      ]
     },
     "execution_count": 27,
     "metadata": {},
     "output_type": "execute_result"
    }
   ],
   "source": [
    "#지역신문에서 나온 전국 뉴스\n",
    "print(_local.loc[nation_news_index].본문_full)\n",
    "#지역신문에서 나온 지역 뉴스 \n",
    "print(_local.loc[local_news_index].본문_full)\n",
    "#전국신문에서 나온 전국 뉴스\n",
    "_nation.loc[index_ls2].본문_full"
   ]
  },
  {
   "cell_type": "code",
   "execution_count": 13,
   "metadata": {
    "hidden": true
   },
   "outputs": [
    {
     "data": {
      "text/plain": [
       "\"import matplotlib.pyplot as plt\\nplt.rcParams['figure.figsize'] = [10, 8]\\nplt.pcolor(cosine_sim)\\nplt.xticks(np.arange(0.5, len(_nation.index), 1), _nation.index)\\nplt.yticks(np.arange(0.5, len(_nation.index), 1), _nation.index)\\nplt.colorbar()\""
      ]
     },
     "execution_count": 13,
     "metadata": {},
     "output_type": "execute_result"
    }
   ],
   "source": [
    "'''import matplotlib.pyplot as plt\n",
    "plt.rcParams['figure.figsize'] = [10, 8]\n",
    "plt.pcolor(cosine_sim)\n",
    "plt.xticks(np.arange(0.5, len(_nation.index), 1), _nation.index)\n",
    "plt.yticks(np.arange(0.5, len(_nation.index), 1), _nation.index)\n",
    "plt.colorbar()'''"
   ]
  },
  {
   "cell_type": "code",
   "execution_count": 23,
   "metadata": {
    "hidden": true
   },
   "outputs": [
    {
     "data": {
      "text/plain": [
       "<matplotlib.colorbar.Colorbar at 0x7fc94978e250>"
      ]
     },
     "execution_count": 23,
     "metadata": {},
     "output_type": "execute_result"
    },
    {
     "data": {
      "image/png": "[encoded data removed]",
      "text/plain": [
       "<Figure size 720x576 with 2 Axes>"
      ]
     },
     "metadata": {
      "needs_background": "light"
     },
     "output_type": "display_data"
    }
   ],
   "source": [
    "#실제로 보면 확인 가능\n",
    "import matplotlib.pyplot as plt\n",
    "plt.rcParams['figure.figsize'] = [10, 8]\n",
    "plt.pcolor(cosine_sim)\n",
    "plt.xticks(np.arange(0.5, len(_local.index), 1), _local.index)\n",
    "plt.yticks(np.arange(0.5, len(_nation.index), 1), _nation.index)\n",
    "plt.title('cosine similarity', fontsize=20)\n",
    "plt.xlabel('local', fontsize=14)\n",
    "plt.ylabel('nation', fontsize=14)\n",
    "plt.colorbar()"
   ]
  },
  {
   "cell_type": "markdown",
   "metadata": {},
   "source": [
    "## binary 표현\n",
    "- 지역이슈 = 1, 전국이슈 = 0"
   ]
  },
  {
   "cell_type": "code",
   "execution_count": 29,
   "metadata": {},
   "outputs": [],
   "source": [
    "if len(set(nation_news_index).union(set(local_news_index))) == len(df_local):\n",
    "    temp = []\n",
    "    for i in df_local.index:\n",
    "        temp.append(i in local_news_index)\n",
    "    df_local['지역이슈'] = temp    "
   ]
  },
  {
   "cell_type": "code",
   "execution_count": 30,
   "metadata": {},
   "outputs": [
    {
     "name": "stdout",
     "output_type": "stream",
     "text": [
      "지역뉴스 건수: 4594\n",
      "전국뉴스 건수: 2680\n"
     ]
    }
   ],
   "source": [
    "#지역뉴스가 다룬\n",
    "print(f'지역뉴스 건수: {sum(df_local[\"지역이슈\"] == True)}')\n",
    "print(f'전국뉴스 건수: {sum(df_local[\"지역이슈\"] != True)}')"
   ]
  },
  {
   "cell_type": "markdown",
   "metadata": {},
   "source": [
    "# 같은 지역내 신문 비교"
   ]
  },
  {
   "cell_type": "markdown",
   "metadata": {},
   "source": [
    "## 키워드 분석"
   ]
  },
  {
   "cell_type": "code",
   "execution_count": 31,
   "metadata": {},
   "outputs": [
    {
     "name": "stdout",
     "output_type": "stream",
     "text": [
      "{'국제신문', '부산일보'}\n"
     ]
    }
   ],
   "source": [
    "print(set(df_local.언론사))\n",
    "df_local_1 = df_local[df_local.언론사 == '부산일보'] #top1\n",
    "df_local_2 = df_local[df_local.언론사 == '국제신문'] #top2"
   ]
  },
  {
   "cell_type": "code",
   "execution_count": 33,
   "metadata": {
    "collapsed": true
   },
   "outputs": [
    {
     "name": "stdout",
     "output_type": "stream",
     "text": [
      "20110605 20110606 20110607 20110608 20110609 20110610 "
     ]
    },
    {
     "name": "stderr",
     "output_type": "stream",
     "text": [
      "/Users/jihyejung/opt/anaconda3/envs/DL/lib/python3.7/site-packages/pandas/core/indexing.py:1732: SettingWithCopyWarning: \n",
      "A value is trying to be set on a copy of a slice from a DataFrame\n",
      "\n",
      "See the caveats in the documentation: https://pandas.pydata.org/pandas-docs/stable/user_guide/indexing.html#returning-a-view-versus-a-copy\n",
      "  self._setitem_single_block(indexer, value, name)\n"
     ]
    },
    {
     "name": "stdout",
     "output_type": "stream",
     "text": [
      "20110611 20110612 20110624 20110625 20110626 20110701 20110702 20110703 20110704 20110705 20110706 20110707 20110708 20110709 20110710 20110711 20110712 20110713 20110714 20110715 20110716 20110717 20110718 20110719 20110720 20110721 20110722 20110723 20110724 20110725 20110726 20110727 20110728 20110729 20110730 20110731 20110801 20110807 20110808 20110809 20110810 20110817 20110822 20110823 20110829 20110908 20110911 20110912 20110913 20110914 20111001 20111030 20111031 20111107 20111120 20111121 20111122 20111123 20111124 20111125 20111126 20111203 20111204 20111205 20111206 20111207 20111208 20111209 20111210 20111211 20111212 20111213 20111214 20111215 20111216 20111217 20111218 20111219 20111220 20111221 20111222 20111223 20111224 20111225 20111226 20111227 20111228 20111229 20111230 20111231 20120101 20120102 20120103 20120104 20120105 20120106 20120107 20120108 20120109 20120110 20120111 20120112 20120113 20120114 20120115 20120116 20120117 20120118 20120119 20120120 20120121 20120122 20120123 20120124 20120125 20120126 20120127 20120128 20120129 20120130 20120131 20120201 20120202 20120203 20120204 20120205 20120206 20120207 20120208 20120209 20120210 20120211 20120212 20120213 20120214 20120215 20120216 20120217 20120218 20120219 20120220 20120221 20120222 20120223 20120224 20120225 20120226 20120227 20120228 20120229 20120301 20120302 20120303 20120304 20120305 20120306 20120307 20120308 20120309 20120310 20120311 20120312 20120313 20120314 20120315 20120316 20120317 20120318 20120319 20120320 20120321 20120322 20120323 20120324 20120325 20120326 20120327 20120328 20120329 20120330 20120331 20120401 20120402 20120403 20120404 20120405 20120406 20120407 20120408 20120409 20120410 20120411 20120412 20120413 20120414 20120415 20120416 20120417 20120418 20120419 20120420 20120421 20120422 20120423 20120424 20120425 20120426 20120427 20120428 20120429 20120430 20120501 20120502 20120503 20120504 20120505 20120506 20120507 20120508 20120509 20120510 20120511 20120512 20120513 20120514 20120515 20120516 20120517 20120518 20120519 20120520 20120521 20120522 20120523 20120524 20120525 20120526 20120527 20120528 20120529 20120530 20120531 20120601 20120602 20120603 20120604 20120605 20120606 20120607 20120608 20120609 20120610 20120611 20120612 20120613 20120614 20120615 20120616 20120617 20120618 20120619 20120620 20120621 20120622 20120623 20120624 20120625 20120626 20120627 20120628 20120629 20120630 20120701 20120702 20120703 20120704 20120705 20120706 20120707 20120708 20120709 20120710 20120711 20120712 20120713 20120714 20120715 20120716 20120717 20120718 20120719 20120720 20120721 20120722 20120723 20120724 20120725 20120726 20120727 20120728 20120729 20120730 20120731 20120801 20120802 20120803 20120804 20120805 20120806 20120807 20120808 20120809 20120810 20120811 20120812 20120813 20120814 20120815 20120816 20120817 20120818 20120819 20120820 20120821 20120822 20120823 20120824 20120825 20120826 20120827 20120828 20120930 20121001 20121231 20130210 20130919 20130920 20130921 20140131 20140201 20140505 20140908 20140909 20141130 20141229 20141230 20141231 20150101 20150102 20150103 20150104 20150105 20150219 20150220 20150221 20150501 20150502 20150503 20150504 20150524 20150531 20150927 20150928 20151031 "
     ]
    }
   ],
   "source": [
    "# 전국일보랑 겹치는 지역일보 삭제\n",
    "df_local['유사도_max'] = None\n",
    "df_local['유사도_mean'] = None\n",
    "# cosine similarity 구해서 일정 수준 넘으면 유사도 높은것으로 간주\n",
    "for i in date_range(\"20110602\", \"20151231\"):\n",
    "    #print(i)\n",
    "    try:\n",
    "        _local_1 = df_local_1[(df_local_1.일자 >= i-1) & (df_local_1.일자 <= i+1)]\n",
    "        _local_2 = df_local_2[(df_local_2.일자 >= i-1) & (df_local_2.일자 <= i+1)]\n",
    "\n",
    "        _len_local_1 = len(_local_1)\n",
    "        _len_local_2 = len(_local_2)\n",
    "\n",
    "        data = pd.concat([_local_1,_local_2])\n",
    "\n",
    "        tfidf = TfidfVectorizer(stop_words='english')\n",
    "        tfidf_mat_nation = tfidf.fit_transform(data['본문_full']) #본문_full, 특성추출(가중치순 상위 50개), 키워드\n",
    "        #print('TF-IDF 행렬의 크기(shape) :',tfidf_mat_nation.shape)\n",
    "\n",
    "        cosine_sim = cosine_similarity(tfidf_mat_nation[:_len_local_1], tfidf_mat_nation[_len_local_1:])\n",
    "        #print(_len_nation)\n",
    "        #print('코사인 유사도 연산 결과 :',cosine_sim.shape)\n",
    "        \n",
    "        #기사의 유사도측정\n",
    "        #수정해야함!!(계속 덮어쓰게 되어있음)\n",
    "        #Top1\n",
    "        for i in range(len(_local_1)):\n",
    "            df_local['유사도_max'].loc[_local_1.index[i]] = np.max(cosine_sim[i])\n",
    "            df_local['유사도_mean'].loc[_local_1.index[i]] = np.mean(cosine_sim[i])\n",
    "        #Top2\n",
    "        for i in range(len(_local_2)):\n",
    "            tr = cosine_sim.transpose()\n",
    "            df_local['유사도_max'].loc[_local_2.index[i]] = np.max(tr[i])\n",
    "            df_local['유사도_mean'].loc[_local_2.index[i]] = np.mean(tr[i])\n",
    "    except:\n",
    "        print(i, end = ' ')\n",
    "\n",
    "#data[['본문_full','언론사']] #: data 확인"
   ]
  },
  {
   "cell_type": "code",
   "execution_count": 94,
   "metadata": {},
   "outputs": [
    {
     "data": {
      "text/plain": [
       "array([0.04203058, 0.0173783 , 0.02706351, 0.02068892, 0.04541737,\n",
       "       0.17278789, 0.02157458, 0.03761215])"
      ]
     },
     "execution_count": 94,
     "metadata": {},
     "output_type": "execute_result"
    }
   ],
   "source": [
    "#_local_1.index[i]\n",
    "#cosine_sim.transpose()[1]"
   ]
  },
  {
   "cell_type": "markdown",
   "metadata": {},
   "source": [
    "### heatmap"
   ]
  },
  {
   "cell_type": "code",
   "execution_count": 81,
   "metadata": {},
   "outputs": [
    {
     "data": {
      "text/plain": [
       "<matplotlib.colorbar.Colorbar at 0x7fe8183d4690>"
      ]
     },
     "execution_count": 81,
     "metadata": {},
     "output_type": "execute_result"
    },
    {
     "data": {
      "image/png": "[encoded data removed]",
      "text/plain": [
       "<Figure size 720x576 with 2 Axes>"
      ]
     },
     "metadata": {
      "needs_background": "light"
     },
     "output_type": "display_data"
    }
   ],
   "source": [
    "#실제로 보면 확인 가능\n",
    "import matplotlib.pyplot as plt\n",
    "plt.rcParams['figure.figsize'] = [10, 8]\n",
    "plt.pcolor(cosine_sim)\n",
    "plt.xticks(np.arange(0.5, len(_local_2.index), 1), _local_2.index)\n",
    "plt.yticks(np.arange(0.5, len(_local_1.index), 1), _local_1.index)\n",
    "plt.title('cosine similarity', fontsize=20)\n",
    "plt.xlabel('top2', fontsize=14)\n",
    "plt.ylabel('top1', fontsize=14)\n",
    "plt.colorbar()"
   ]
  },
  {
   "cell_type": "code",
   "execution_count": null,
   "metadata": {},
   "outputs": [],
   "source": []
  },
  {
   "cell_type": "markdown",
   "metadata": {},
   "source": [
    "## 감정분석"
   ]
  },
  {
   "cell_type": "code",
   "execution_count": null,
   "metadata": {},
   "outputs": [],
   "source": []
  },
  {
   "cell_type": "markdown",
   "metadata": {},
   "source": [
    "## 유사치 도출"
   ]
  },
  {
   "cell_type": "markdown",
   "metadata": {},
   "source": [
    "# OLS\n",
    "- y = Xb+ u\n",
    "    - y: 유사도\n",
    "    - X: 지역/ 전국 binary\n",
    "    - cov: region, time, topic fixed effect…?, "
   ]
  },
  {
   "cell_type": "code",
   "execution_count": 34,
   "metadata": {},
   "outputs": [],
   "source": [
    "from statsmodels.formula.api import ols\n",
    "\n",
    "#Na drop\n",
    "#df_local.info() #na가 존재한다.\n",
    "df = df_local[df_local.유사도_max.notna()]"
   ]
  },
  {
   "cell_type": "code",
   "execution_count": 36,
   "metadata": {
    "collapsed": true
   },
   "outputs": [
    {
     "name": "stderr",
     "output_type": "stream",
     "text": [
      "/Users/jihyejung/opt/anaconda3/envs/DL/lib/python3.7/site-packages/ipykernel_launcher.py:3: SettingWithCopyWarning: \n",
      "A value is trying to be set on a copy of a slice from a DataFrame.\n",
      "Try using .loc[row_indexer,col_indexer] = value instead\n",
      "\n",
      "See the caveats in the documentation: https://pandas.pydata.org/pandas-docs/stable/user_guide/indexing.html#returning-a-view-versus-a-copy\n",
      "  This is separate from the ipykernel package so we can avoid doing imports until\n",
      "/Users/jihyejung/opt/anaconda3/envs/DL/lib/python3.7/site-packages/ipykernel_launcher.py:4: SettingWithCopyWarning: \n",
      "A value is trying to be set on a copy of a slice from a DataFrame.\n",
      "Try using .loc[row_indexer,col_indexer] = value instead\n",
      "\n",
      "See the caveats in the documentation: https://pandas.pydata.org/pandas-docs/stable/user_guide/indexing.html#returning-a-view-versus-a-copy\n",
      "  after removing the cwd from sys.path.\n",
      "/Users/jihyejung/opt/anaconda3/envs/DL/lib/python3.7/site-packages/ipykernel_launcher.py:5: SettingWithCopyWarning: \n",
      "A value is trying to be set on a copy of a slice from a DataFrame.\n",
      "Try using .loc[row_indexer,col_indexer] = value instead\n",
      "\n",
      "See the caveats in the documentation: https://pandas.pydata.org/pandas-docs/stable/user_guide/indexing.html#returning-a-view-versus-a-copy\n",
      "  \"\"\"\n",
      "/Users/jihyejung/opt/anaconda3/envs/DL/lib/python3.7/site-packages/ipykernel_launcher.py:6: SettingWithCopyWarning: \n",
      "A value is trying to be set on a copy of a slice from a DataFrame.\n",
      "Try using .loc[row_indexer,col_indexer] = value instead\n",
      "\n",
      "See the caveats in the documentation: https://pandas.pydata.org/pandas-docs/stable/user_guide/indexing.html#returning-a-view-versus-a-copy\n",
      "  \n",
      "/Users/jihyejung/opt/anaconda3/envs/DL/lib/python3.7/site-packages/ipykernel_launcher.py:7: SettingWithCopyWarning: \n",
      "A value is trying to be set on a copy of a slice from a DataFrame.\n",
      "Try using .loc[row_indexer,col_indexer] = value instead\n",
      "\n",
      "See the caveats in the documentation: https://pandas.pydata.org/pandas-docs/stable/user_guide/indexing.html#returning-a-view-versus-a-copy\n",
      "  import sys\n",
      "/Users/jihyejung/opt/anaconda3/envs/DL/lib/python3.7/site-packages/ipykernel_launcher.py:8: SettingWithCopyWarning: \n",
      "A value is trying to be set on a copy of a slice from a DataFrame.\n",
      "Try using .loc[row_indexer,col_indexer] = value instead\n",
      "\n",
      "See the caveats in the documentation: https://pandas.pydata.org/pandas-docs/stable/user_guide/indexing.html#returning-a-view-versus-a-copy\n",
      "  \n",
      "/Users/jihyejung/opt/anaconda3/envs/DL/lib/python3.7/site-packages/ipykernel_launcher.py:9: SettingWithCopyWarning: \n",
      "A value is trying to be set on a copy of a slice from a DataFrame.\n",
      "Try using .loc[row_indexer,col_indexer] = value instead\n",
      "\n",
      "See the caveats in the documentation: https://pandas.pydata.org/pandas-docs/stable/user_guide/indexing.html#returning-a-view-versus-a-copy\n",
      "  if __name__ == '__main__':\n"
     ]
    }
   ],
   "source": [
    "#df['topic'] = df['통합 분류1'].astype('category')\n",
    "#df['top1'] = df['언론사'].astype('category')\n",
    "df['topic_1'] = df['통합 분류1'].astype('category').cat.codes\n",
    "df['top1_1'] = df['언론사'].astype('category').cat.codes\n",
    "df['year'] = df.일자.apply(lambda x: int(str(x)[:4]))\n",
    "df['month'] = df.일자.apply(lambda x: int(str(x)[4:6]))\n",
    "df['지역이슈'] = df['지역이슈'].astype('int')\n",
    "df['유사도_max'] = df['유사도_max'].astype('float')\n",
    "df['유사도_mean'] = df['유사도_mean'].astype('float')"
   ]
  },
  {
   "cell_type": "code",
   "execution_count": 38,
   "metadata": {},
   "outputs": [
    {
     "data": {
      "text/html": [
       "<div>\n",
       "<style scoped>\n",
       "    .dataframe tbody tr th:only-of-type {\n",
       "        vertical-align: middle;\n",
       "    }\n",
       "\n",
       "    .dataframe tbody tr th {\n",
       "        vertical-align: top;\n",
       "    }\n",
       "\n",
       "    .dataframe thead th {\n",
       "        text-align: right;\n",
       "    }\n",
       "</style>\n",
       "<table border=\"1\" class=\"dataframe\">\n",
       "  <thead>\n",
       "    <tr style=\"text-align: right;\">\n",
       "      <th></th>\n",
       "      <th>뉴스 식별자</th>\n",
       "      <th>일자</th>\n",
       "      <th>기고자</th>\n",
       "      <th>유사도_max</th>\n",
       "      <th>유사도_mean</th>\n",
       "      <th>topic_1</th>\n",
       "      <th>top1_1</th>\n",
       "      <th>year</th>\n",
       "      <th>month</th>\n",
       "    </tr>\n",
       "    <tr>\n",
       "      <th>지역이슈</th>\n",
       "      <th></th>\n",
       "      <th></th>\n",
       "      <th></th>\n",
       "      <th></th>\n",
       "      <th></th>\n",
       "      <th></th>\n",
       "      <th></th>\n",
       "      <th></th>\n",
       "      <th></th>\n",
       "    </tr>\n",
       "  </thead>\n",
       "  <tbody>\n",
       "    <tr>\n",
       "      <th>0</th>\n",
       "      <td>1.500551e+06</td>\n",
       "      <td>2.013687e+07</td>\n",
       "      <td>NaN</td>\n",
       "      <td>0.089950</td>\n",
       "      <td>0.034263</td>\n",
       "      <td>51.026695</td>\n",
       "      <td>0.497881</td>\n",
       "      <td>2013.614407</td>\n",
       "      <td>7.076695</td>\n",
       "    </tr>\n",
       "    <tr>\n",
       "      <th>1</th>\n",
       "      <td>1.500557e+06</td>\n",
       "      <td>2.013648e+07</td>\n",
       "      <td>NaN</td>\n",
       "      <td>0.053792</td>\n",
       "      <td>0.026879</td>\n",
       "      <td>55.307692</td>\n",
       "      <td>0.519170</td>\n",
       "      <td>2013.573668</td>\n",
       "      <td>7.243308</td>\n",
       "    </tr>\n",
       "  </tbody>\n",
       "</table>\n",
       "</div>"
      ],
      "text/plain": [
       "            뉴스 식별자            일자  기고자   유사도_max  유사도_mean    topic_1  \\\n",
       "지역이슈                                                                   \n",
       "0     1.500551e+06  2.013687e+07  NaN  0.089950  0.034263  51.026695   \n",
       "1     1.500557e+06  2.013648e+07  NaN  0.053792  0.026879  55.307692   \n",
       "\n",
       "        top1_1         year     month  \n",
       "지역이슈                                   \n",
       "0     0.497881  2013.614407  7.076695  \n",
       "1     0.519170  2013.573668  7.243308  "
      ]
     },
     "execution_count": 38,
     "metadata": {},
     "output_type": "execute_result"
    }
   ],
   "source": [
    "df.groupby('지역이슈').mean()"
   ]
  },
  {
   "cell_type": "code",
   "execution_count": 37,
   "metadata": {},
   "outputs": [
    {
     "name": "stdout",
     "output_type": "stream",
     "text": [
      "<class 'pandas.core.frame.DataFrame'>\n",
      "Int64Index: 6507 entries, 0 to 7273\n",
      "Data columns (total 27 columns):\n",
      " #   Column             Non-Null Count  Dtype  \n",
      "---  ------             --------------  -----  \n",
      " 0   뉴스 식별자             6507 non-null   float64\n",
      " 1   일자                 6507 non-null   int64  \n",
      " 2   언론사                6507 non-null   object \n",
      " 3   기고자                0 non-null      float64\n",
      " 4   제목                 6507 non-null   object \n",
      " 5   통합 분류1             6507 non-null   object \n",
      " 6   통합 분류2             5265 non-null   object \n",
      " 7   통합 분류3             4153 non-null   object \n",
      " 8   사건/사고 분류1          1241 non-null   object \n",
      " 9   사건/사고 분류2          286 non-null    object \n",
      " 10  사건/사고 분류3          75 non-null     object \n",
      " 11  인물                 2870 non-null   object \n",
      " 12  위치                 6016 non-null   object \n",
      " 13  기관                 6483 non-null   object \n",
      " 14  키워드                6507 non-null   object \n",
      " 15  특성추출(가중치순 상위 50개)  6507 non-null   object \n",
      " 16  본문                 6507 non-null   object \n",
      " 17  URL                6507 non-null   object \n",
      " 18  분석제외 여부            152 non-null    object \n",
      " 19  본문_full            6507 non-null   object \n",
      " 20  지역이슈               6507 non-null   int64  \n",
      " 21  유사도_max            6507 non-null   float64\n",
      " 22  유사도_mean           6507 non-null   float64\n",
      " 23  topic_1            6507 non-null   int8   \n",
      " 24  top1_1             6507 non-null   int8   \n",
      " 25  year               6507 non-null   int64  \n",
      " 26  month              6507 non-null   int64  \n",
      "dtypes: float64(4), int64(4), int8(2), object(17)\n",
      "memory usage: 1.3+ MB\n"
     ]
    }
   ],
   "source": [
    "df.info()"
   ]
  },
  {
   "cell_type": "code",
   "execution_count": 186,
   "metadata": {},
   "outputs": [],
   "source": [
    "#os.getcwd()\n",
    "df.to_csv('../data/df_ols.csv',encoding = 'utf-8-sig')"
   ]
  },
  {
   "cell_type": "code",
   "execution_count": 167,
   "metadata": {},
   "outputs": [
    {
     "name": "stdout",
     "output_type": "stream",
     "text": [
      "                            OLS Regression Results                            \n",
      "==============================================================================\n",
      "Dep. Variable:               유사도_mean   R-squared:                       0.133\n",
      "Model:                            OLS   Adj. R-squared:                  0.121\n",
      "Method:                 Least Squares   F-statistic:                     11.83\n",
      "Date:                Mon, 10 Apr 2023   Prob (F-statistic):          2.83e-141\n",
      "Time:                        22:12:58   Log-Likelihood:                 19778.\n",
      "No. Observations:                6507   AIC:                        -3.939e+04\n",
      "Df Residuals:                    6423   BIC:                        -3.882e+04\n",
      "Df Model:                          83                                         \n",
      "Covariance Type:            nonrobust                                         \n",
      "==========================================================================================\n",
      "                             coef    std err          t      P>|t|      [0.025      0.975]\n",
      "------------------------------------------------------------------------------------------\n",
      "Intercept                  0.1287      0.244      0.529      0.597      -0.349       0.606\n",
      "top1[T.부산일보]               0.0030      0.000     10.100      0.000       0.002       0.004\n",
      "topic[T.IT_과학>과학]          0.0091      0.005      1.823      0.068      -0.001       0.019\n",
      "topic[T.IT_과학>모바일]         0.0013      0.005      0.271      0.786      -0.008       0.011\n",
      "topic[T.IT_과학>보안]          0.0050      0.004      1.223      0.221      -0.003       0.013\n",
      "topic[T.IT_과학>인터넷_SNS]     0.0027      0.004      0.631      0.528      -0.006       0.011\n",
      "topic[T.IT_과학>콘텐츠]         0.0038      0.006      0.598      0.550      -0.009       0.016\n",
      "topic[T.경제>경제일반]           0.0038      0.004      0.955      0.340      -0.004       0.011\n",
      "topic[T.경제>국제경제]           0.0038      0.004      1.048      0.295      -0.003       0.011\n",
      "topic[T.경제>금융_재테크]         0.0043      0.004      1.155      0.248      -0.003       0.012\n",
      "topic[T.경제>무역]             0.0026      0.004      0.654      0.513      -0.005       0.010\n",
      "topic[T.경제>반도체]            0.0082      0.012      0.677      0.498      -0.016       0.032\n",
      "topic[T.경제>부동산]            0.0020      0.004      0.510      0.610      -0.006       0.010\n",
      "topic[T.경제>산업_기업]          0.0014      0.004      0.374      0.708      -0.006       0.009\n",
      "topic[T.경제>서비스_쇼핑]         0.0011      0.004      0.285      0.776      -0.007       0.009\n",
      "topic[T.경제>외환]            -0.0015      0.009     -0.168      0.867      -0.019       0.016\n",
      "topic[T.경제>유통]             0.0028      0.004      0.671      0.503      -0.005       0.011\n",
      "topic[T.경제>자동차]            0.0032      0.005      0.682      0.495      -0.006       0.012\n",
      "topic[T.경제>자원]            -0.0006      0.004     -0.151      0.880      -0.009       0.007\n",
      "topic[T.경제>증권_증시]          0.0066      0.004      1.488      0.137      -0.002       0.015\n",
      "topic[T.경제>취업_창업]          0.0022      0.004      0.590      0.555      -0.005       0.009\n",
      "topic[T.국제>국제일반]           0.0062      0.005      1.273      0.203      -0.003       0.016\n",
      "topic[T.국제>러시아]            0.0083      0.006      1.400      0.162      -0.003       0.020\n",
      "topic[T.국제>미국_북미]          0.0026      0.007      0.380      0.704      -0.011       0.016\n",
      "topic[T.국제>아시아]            0.0072      0.004      1.783      0.075      -0.001       0.015\n",
      "topic[T.국제>유럽_EU]          0.0038      0.005      0.837      0.403      -0.005       0.013\n",
      "topic[T.국제>일본]             0.0046      0.004      1.245      0.213      -0.003       0.012\n",
      "topic[T.국제>중국]             0.0012      0.004      0.279      0.780      -0.007       0.010\n",
      "topic[T.국제>중남미]            0.0503      0.009      5.616      0.000       0.033       0.068\n",
      "topic[T.국제>중동_아프리카]        0.0009      0.005      0.199      0.843      -0.008       0.010\n",
      "topic[T.문화>문화일반]          -0.0029      0.005     -0.565      0.572      -0.013       0.007\n",
      "topic[T.문화>미술_건축]         -0.0051      0.006     -0.898      0.369      -0.016       0.006\n",
      "topic[T.문화>방송_연예]         -0.0120      0.009     -1.334      0.182      -0.030       0.006\n",
      "topic[T.문화>생활]             0.0029      0.006      0.516      0.606      -0.008       0.014\n",
      "topic[T.문화>영화]             0.0028      0.004      0.674      0.501      -0.005       0.011\n",
      "topic[T.문화>요리_여행]          0.0008      0.004      0.191      0.848      -0.007       0.009\n",
      "topic[T.문화>음악]             0.0023      0.007      0.332      0.740      -0.011       0.016\n",
      "topic[T.문화>전시_공연]          0.0009      0.004      0.200      0.842      -0.008       0.009\n",
      "topic[T.문화>종교]             0.0080      0.005      1.647      0.100      -0.002       0.018\n",
      "topic[T.문화>출판]            -0.0024      0.007     -0.352      0.724      -0.016       0.011\n",
      "topic[T.문화>학술_문화재]         0.0012      0.004      0.295      0.768      -0.007       0.009\n",
      "topic[T.미분류]               0.0050      0.004      1.369      0.171      -0.002       0.012\n",
      "topic[T.사회>교육_시험]          0.0021      0.004      0.592      0.554      -0.005       0.009\n",
      "topic[T.사회>날씨]             0.0044      0.007      0.650      0.515      -0.009       0.018\n",
      "topic[T.사회>노동_복지]          0.0027      0.004      0.725      0.469      -0.005       0.010\n",
      "topic[T.사회>미디어]          2.65e-05      0.004      0.006      0.995      -0.009       0.009\n",
      "topic[T.사회>사건_사고]          0.0055      0.004      1.551      0.121      -0.001       0.013\n",
      "topic[T.사회>사회일반]           0.0031      0.004      0.873      0.383      -0.004       0.010\n",
      "topic[T.사회>여성]             0.0002      0.004      0.056      0.956      -0.008       0.008\n",
      "topic[T.사회>의료_건강]          0.0096      0.004      2.592      0.010       0.002       0.017\n",
      "topic[T.사회>장애인]            0.0018      0.005      0.403      0.687      -0.007       0.011\n",
      "topic[T.사회>환경]             0.0005      0.004      0.127      0.899      -0.007       0.008\n",
      "topic[T.스포츠>농구_배구]         0.0464      0.012      3.813      0.000       0.023       0.070\n",
      "topic[T.스포츠>야구]            0.0038      0.005      0.726      0.468      -0.006       0.014\n",
      "topic[T.스포츠>야구>한국프로야구]     0.0016      0.005      0.345      0.730      -0.008       0.011\n",
      "topic[T.스포츠>올림픽_아시안게임]    -0.0021      0.005     -0.428      0.669      -0.012       0.008\n",
      "topic[T.스포츠>월드컵]          -0.0055      0.007     -0.806      0.421      -0.019       0.008\n",
      "topic[T.스포츠>축구]           -0.0081      0.006     -1.283      0.199      -0.020       0.004\n",
      "topic[T.스포츠>축구>한국프로축구]    -0.0051      0.009     -0.566      0.572      -0.023       0.012\n",
      "topic[T.스포츠>축구>해외축구]      -0.0075      0.012     -0.617      0.538      -0.031       0.016\n",
      "topic[T.정치>국회_정당]          0.0056      0.004      1.559      0.119      -0.001       0.013\n",
      "topic[T.정치>북한]             0.0106      0.004      2.918      0.004       0.003       0.018\n",
      "topic[T.정치>선거]             0.0071      0.004      1.965      0.049     1.6e-05       0.014\n",
      "topic[T.정치>외교]             0.0043      0.004      1.156      0.248      -0.003       0.012\n",
      "topic[T.정치>정치일반]           0.0051      0.004      1.329      0.184      -0.002       0.013\n",
      "topic[T.정치>청와대]            0.0089      0.004      2.485      0.013       0.002       0.016\n",
      "topic[T.정치>행정_자치]          0.0058      0.004      1.627      0.104      -0.001       0.013\n",
      "topic[T.지역>강원]             0.0025      0.004      0.697      0.486      -0.005       0.010\n",
      "topic[T.지역>경기]             0.0032      0.004      0.872      0.383      -0.004       0.010\n",
      "topic[T.지역>경남]             0.0041      0.004      1.153      0.249      -0.003       0.011\n",
      "topic[T.지역>경북]             0.0091      0.004      2.083      0.037       0.001       0.018\n",
      "topic[T.지역>광주]             0.0018      0.006      0.311      0.756      -0.009       0.013\n",
      "topic[T.지역>대구]             0.0033      0.004      0.783      0.434      -0.005       0.012\n",
      "topic[T.지역>대전]             0.0020      0.004      0.510      0.610      -0.006       0.009\n",
      "topic[T.지역>부산]             0.0045      0.004      1.263      0.207      -0.002       0.011\n",
      "topic[T.지역>울산]             0.0035      0.004      0.921      0.357      -0.004       0.011\n",
      "topic[T.지역>전남]             0.0010      0.005      0.215      0.830      -0.008       0.010\n",
      "topic[T.지역>전북]             0.0022      0.004      0.572      0.567      -0.005       0.010\n",
      "topic[T.지역>제주]             0.0005      0.005      0.110      0.912      -0.009       0.010\n",
      "topic[T.지역>지역일반]           0.0059      0.004      1.555      0.120      -0.002       0.013\n",
      "topic[T.지역>충남]             0.0012      0.004      0.309      0.757      -0.006       0.009\n",
      "topic[T.지역>충북]             0.0058      0.004      1.311      0.190      -0.003       0.014\n",
      "지역이슈                      -0.0058      0.000    -15.634      0.000      -0.007      -0.005\n",
      "일자                     -5.037e-09   1.21e-08     -0.417      0.677   -2.87e-08    1.87e-08\n",
      "==============================================================================\n",
      "Omnibus:                     2178.727   Durbin-Watson:                   1.852\n",
      "Prob(Omnibus):                  0.000   Jarque-Bera (JB):            10459.414\n",
      "Skew:                           1.551   Prob(JB):                         0.00\n",
      "Kurtosis:                       8.381   Cond. No.                     3.39e+10\n",
      "==============================================================================\n",
      "\n",
      "Warnings:\n",
      "[1] Standard Errors assume that the covariance matrix of the errors is correctly specified.\n",
      "[2] The condition number is large, 3.39e+10. This might indicate that there are\n",
      "strong multicollinearity or other numerical problems.\n"
     ]
    }
   ],
   "source": [
    "model = ols(formula = '유사도_mean ~ 지역이슈+ 일자 + top1 +topic',data = df).fit()\n",
    "print(model.summary())\n",
    "with open('../result/summary.txt', 'w') as fh:\n",
    "    fh.write(model.summary().as_text())"
   ]
  },
  {
   "cell_type": "code",
   "execution_count": 155,
   "metadata": {},
   "outputs": [
    {
     "name": "stdout",
     "output_type": "stream",
     "text": [
      "                            OLS Regression Results                            \n",
      "==============================================================================\n",
      "Dep. Variable:                유사도_max   R-squared:                       0.149\n",
      "Model:                            OLS   Adj. R-squared:                  0.138\n",
      "Method:                 Least Squares   F-statistic:                     13.57\n",
      "Date:                Mon, 10 Apr 2023   Prob (F-statistic):          4.09e-166\n",
      "Time:                        22:08:46   Log-Likelihood:                 9927.0\n",
      "No. Observations:                6507   AIC:                        -1.969e+04\n",
      "Df Residuals:                    6423   BIC:                        -1.912e+04\n",
      "Df Model:                          83                                         \n",
      "Covariance Type:            nonrobust                                         \n",
      "==========================================================================================\n",
      "                             coef    std err          t      P>|t|      [0.025      0.975]\n",
      "------------------------------------------------------------------------------------------\n",
      "Intercept                 -1.3675      1.107     -1.236      0.217      -3.537       0.802\n",
      "top1[T.부산일보]               0.0175      0.001     12.890      0.000       0.015       0.020\n",
      "topic[T.IT_과학>과학]          0.0438      0.023      1.937      0.053      -0.001       0.088\n",
      "topic[T.IT_과학>모바일]         0.0084      0.022      0.378      0.706      -0.035       0.052\n",
      "topic[T.IT_과학>보안]          0.0325      0.018      1.760      0.078      -0.004       0.069\n",
      "topic[T.IT_과학>인터넷_SNS]     0.0177      0.019      0.909      0.363      -0.020       0.056\n",
      "topic[T.IT_과학>콘텐츠]         0.0075      0.029      0.264      0.792      -0.048       0.064\n",
      "topic[T.경제>경제일반]           0.0143      0.018      0.796      0.426      -0.021       0.049\n",
      "topic[T.경제>국제경제]           0.0100      0.017      0.598      0.550      -0.023       0.043\n",
      "topic[T.경제>금융_재테크]         0.0183      0.017      1.092      0.275      -0.015       0.051\n",
      "topic[T.경제>무역]            -0.0008      0.018     -0.044      0.965      -0.036       0.035\n",
      "topic[T.경제>반도체]            0.0018      0.055      0.032      0.974      -0.107       0.110\n",
      "topic[T.경제>부동산]            0.0091      0.018      0.507      0.612      -0.026       0.044\n",
      "topic[T.경제>산업_기업]          0.0093      0.017      0.560      0.575      -0.023       0.042\n",
      "topic[T.경제>서비스_쇼핑]         0.0115      0.018      0.640      0.522      -0.024       0.047\n",
      "topic[T.경제>외환]            -0.0207      0.041     -0.507      0.612      -0.101       0.059\n",
      "topic[T.경제>유통]             0.0047      0.019      0.250      0.802      -0.032       0.042\n",
      "topic[T.경제>자동차]            0.0057      0.021      0.270      0.787      -0.036       0.047\n",
      "topic[T.경제>자원]             0.0024      0.019      0.129      0.897      -0.034       0.039\n",
      "topic[T.경제>증권_증시]          0.0312      0.020      1.540      0.124      -0.009       0.071\n",
      "topic[T.경제>취업_창업]          0.0065      0.017      0.386      0.699      -0.026       0.039\n",
      "topic[T.국제>국제일반]           0.0405      0.022      1.832      0.067      -0.003       0.084\n",
      "topic[T.국제>러시아]            0.0237      0.027      0.881      0.378      -0.029       0.076\n",
      "topic[T.국제>미국_북미]          0.0115      0.031      0.373      0.709      -0.049       0.072\n",
      "topic[T.국제>아시아]            0.0309      0.018      1.672      0.095      -0.005       0.067\n",
      "topic[T.국제>유럽_EU]          0.0271      0.021      1.306      0.192      -0.014       0.068\n",
      "topic[T.국제>일본]             0.0279      0.017      1.644      0.100      -0.005       0.061\n",
      "topic[T.국제>중국]             0.0053      0.020      0.273      0.785      -0.033       0.044\n",
      "topic[T.국제>중남미]            0.1327      0.041      3.257      0.001       0.053       0.213\n",
      "topic[T.국제>중동_아프리카]        0.0100      0.021      0.468      0.639      -0.032       0.052\n",
      "topic[T.문화>문화일반]          -0.0049      0.023     -0.212      0.832      -0.050       0.040\n",
      "topic[T.문화>미술_건축]         -0.0132      0.026     -0.516      0.606      -0.063       0.037\n",
      "topic[T.문화>방송_연예]         -0.0366      0.041     -0.898      0.369      -0.116       0.043\n",
      "topic[T.문화>생활]             0.0002      0.026      0.009      0.993      -0.050       0.050\n",
      "topic[T.문화>영화]             0.0204      0.019      1.085      0.278      -0.016       0.057\n",
      "topic[T.문화>요리_여행]         -0.0007      0.019     -0.039      0.969      -0.038       0.036\n",
      "topic[T.문화>음악]             0.0063      0.031      0.205      0.837      -0.054       0.067\n",
      "topic[T.문화>전시_공연]          0.0012      0.020      0.060      0.952      -0.037       0.040\n",
      "topic[T.문화>종교]             0.0255      0.022      1.152      0.249      -0.018       0.069\n",
      "topic[T.문화>출판]            -0.0149      0.031     -0.482      0.630      -0.076       0.046\n",
      "topic[T.문화>학술_문화재]         0.0126      0.018      0.686      0.492      -0.023       0.048\n",
      "topic[T.미분류]               0.0187      0.017      1.127      0.260      -0.014       0.051\n",
      "topic[T.사회>교육_시험]          0.0095      0.016      0.583      0.560      -0.022       0.041\n",
      "topic[T.사회>날씨]             0.0348      0.031      1.124      0.261      -0.026       0.095\n",
      "topic[T.사회>노동_복지]          0.0096      0.017      0.576      0.564      -0.023       0.042\n",
      "topic[T.사회>미디어]            0.0049      0.020      0.245      0.806      -0.034       0.044\n",
      "topic[T.사회>사건_사고]          0.0311      0.016      1.912      0.056      -0.001       0.063\n",
      "topic[T.사회>사회일반]           0.0149      0.016      0.915      0.360      -0.017       0.047\n",
      "topic[T.사회>여성]             0.0018      0.019      0.094      0.925      -0.035       0.038\n",
      "topic[T.사회>의료_건강]          0.0293      0.017      1.736      0.083      -0.004       0.062\n",
      "topic[T.사회>장애인]            0.0022      0.021      0.109      0.913      -0.038       0.042\n",
      "topic[T.사회>환경]             0.0022      0.017      0.131      0.896      -0.031       0.035\n",
      "topic[T.스포츠>농구_배구]         0.1712      0.055      3.094      0.002       0.063       0.280\n",
      "topic[T.스포츠>야구]            0.0400      0.024      1.679      0.093      -0.007       0.087\n",
      "topic[T.스포츠>야구>한국프로야구]     0.0047      0.022      0.216      0.829      -0.038       0.047\n",
      "topic[T.스포츠>올림픽_아시안게임]     0.0024      0.023      0.108      0.914      -0.042       0.047\n",
      "topic[T.스포츠>월드컵]          -0.0238      0.031     -0.771      0.441      -0.085       0.037\n",
      "topic[T.스포츠>축구]           -0.0126      0.029     -0.442      0.658      -0.069       0.043\n",
      "topic[T.스포츠>축구>한국프로축구]    -0.0082      0.041     -0.202      0.840      -0.088       0.072\n",
      "topic[T.스포츠>축구>해외축구]      -0.0104      0.055     -0.189      0.850      -0.119       0.098\n",
      "topic[T.정치>국회_정당]          0.0310      0.016      1.909      0.056      -0.001       0.063\n",
      "topic[T.정치>북한]             0.0537      0.017      3.248      0.001       0.021       0.086\n",
      "topic[T.정치>선거]             0.0318      0.017      1.924      0.054      -0.001       0.064\n",
      "topic[T.정치>외교]             0.0317      0.017      1.863      0.063      -0.002       0.065\n",
      "topic[T.정치>정치일반]           0.0245      0.018      1.391      0.164      -0.010       0.059\n",
      "topic[T.정치>청와대]            0.0371      0.016      2.273      0.023       0.005       0.069\n",
      "topic[T.정치>행정_자치]          0.0276      0.016      1.703      0.089      -0.004       0.059\n",
      "topic[T.지역>강원]             0.0105      0.016      0.640      0.522      -0.022       0.043\n",
      "topic[T.지역>경기]             0.0132      0.017      0.790      0.430      -0.020       0.046\n",
      "topic[T.지역>경남]             0.0174      0.016      1.073      0.283      -0.014       0.049\n",
      "topic[T.지역>경북]             0.0428      0.020      2.150      0.032       0.004       0.082\n",
      "topic[T.지역>광주]             0.0207      0.026      0.807      0.420      -0.030       0.071\n",
      "topic[T.지역>대구]             0.0122      0.019      0.629      0.529      -0.026       0.050\n",
      "topic[T.지역>대전]             0.0064      0.017      0.366      0.714      -0.028       0.040\n",
      "topic[T.지역>부산]             0.0162      0.016      1.007      0.314      -0.015       0.048\n",
      "topic[T.지역>울산]             0.0084      0.017      0.484      0.629      -0.026       0.042\n",
      "topic[T.지역>전남]             0.0130      0.022      0.598      0.550      -0.030       0.056\n",
      "topic[T.지역>전북]             0.0097      0.017      0.568      0.570      -0.024       0.043\n",
      "topic[T.지역>제주]             0.0045      0.022      0.210      0.834      -0.038       0.047\n",
      "topic[T.지역>지역일반]           0.0196      0.017      1.138      0.255      -0.014       0.053\n",
      "topic[T.지역>충남]             0.0062      0.018      0.345      0.730      -0.029       0.041\n",
      "topic[T.지역>충북]             0.0167      0.020      0.830      0.407      -0.023       0.056\n",
      "지역이슈                      -0.0266      0.002    -15.745      0.000      -0.030      -0.023\n",
      "일자                      7.066e-08    5.5e-08      1.286      0.199   -3.71e-08    1.78e-07\n",
      "==============================================================================\n",
      "Omnibus:                     2822.319   Durbin-Watson:                   1.954\n",
      "Prob(Omnibus):                  0.000   Jarque-Bera (JB):            14565.788\n",
      "Skew:                           2.062   Prob(JB):                         0.00\n",
      "Kurtosis:                       9.059   Cond. No.                     3.39e+10\n",
      "==============================================================================\n",
      "\n",
      "Warnings:\n",
      "[1] Standard Errors assume that the covariance matrix of the errors is correctly specified.\n",
      "[2] The condition number is large, 3.39e+10. This might indicate that there are\n",
      "strong multicollinearity or other numerical problems.\n"
     ]
    }
   ],
   "source": [
    "model = ols(formula = '유사도_max~ 지역이슈+ 일자 + top1 +topic',data = df).fit()\n",
    "print(model.summary())"
   ]
  }
 ],
 "metadata": {
  "kernelspec": {
   "display_name": "Python [conda env:DL] *",
   "language": "python",
   "name": "conda-env-DL-py"
  },
  "language_info": {
   "codemirror_mode": {
    "name": "ipython",
    "version": 3
   },
   "file_extension": ".py",
   "mimetype": "text/x-python",
   "name": "python",
   "nbconvert_exporter": "python",
   "pygments_lexer": "ipython3",
   "version": "3.7.7"
  },
  "toc": {
   "base_numbering": 1,
   "nav_menu": {},
   "number_sections": true,
   "sideBar": true,
   "skip_h1_title": false,
   "title_cell": "Table of Contents",
   "title_sidebar": "Contents",
   "toc_cell": false,
   "toc_position": {},
   "toc_section_display": true,
   "toc_window_display": false
  },
  "varInspector": {
   "cols": {
    "lenName": 16,
    "lenType": 16,
    "lenVar": 40
   },
   "kernels_config": {
    "python": {
     "delete_cmd_postfix": "",
     "delete_cmd_prefix": "del ",
     "library": "var_list.py",
     "varRefreshCmd": "print(var_dic_list())"
    },
    "r": {
     "delete_cmd_postfix": ") ",
     "delete_cmd_prefix": "rm(",
     "library": "var_list.r",
     "varRefreshCmd": "cat(var_dic_list()) "
    }
   },
   "types_to_exclude": [
    "module",
    "function",
    "builtin_function_or_method",
    "instance",
    "_Feature"
   ],
   "window_display": false
  }
 },
 "nbformat": 4,
 "nbformat_minor": 4
}
